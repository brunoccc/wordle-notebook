{
 "cells": [
  {
   "cell_type": "markdown",
   "id": "9d8c03fa",
   "metadata": {},
   "source": [
    "# WORDLE SOLVER"
   ]
  },
  {
   "cell_type": "markdown",
   "id": "ea9d481f",
   "metadata": {},
   "source": [
    "We use the words list available at https://gist.github.com/prichey/95db6bdef37482ba3f6eb7b4dec99101.\n",
    "Then we pre-process the data: \n",
    "\n",
    "- We calculate the frequency of each single letter.\n",
    "- We compute a score for each word. Words containing frequent letters have a higher score than words with less common letters\n",
    "- The word with the highest score is the ideal word to type at first in Wordle. This happens to be 'arose' (with a couple of other words with the same score)\n",
    "\n",
    "The steps above need to be executed only once. When we have the main DataFrame with the score of each word, we can use it for solving:\n",
    "\n",
    "- We type the first word in the game ('arose'), and we get the result in terms of Black/Yellow/Green cells\n",
    "- We pass these information to the solver, which will then remove words not complying with the results and return the next most probable word\n",
    "- We repeat the process until we guess the actual hidden word\n",
    "\n"
   ]
  },
  {
   "cell_type": "code",
   "execution_count": 1,
   "id": "0ab2abe3",
   "metadata": {},
   "outputs": [],
   "source": [
    "import numpy as np\n",
    "import matplotlib.pyplot as plt\n",
    "import pandas as pd"
   ]
  },
  {
   "cell_type": "markdown",
   "id": "78163bb8",
   "metadata": {},
   "source": [
    "## LOADING DATA"
   ]
  },
  {
   "cell_type": "code",
   "execution_count": 2,
   "id": "21904bf4",
   "metadata": {},
   "outputs": [
    {
     "name": "stdout",
     "output_type": "stream",
     "text": [
      "12972 words loaded.\n"
     ]
    }
   ],
   "source": [
    "words = np.loadtxt('./wordle-words.txt', dtype=str)\n",
    "print(f'{len(words)} words loaded.')"
   ]
  },
  {
   "cell_type": "markdown",
   "id": "40256a10",
   "metadata": {},
   "source": [
    "## CALCULATING FREQUENCIES"
   ]
  },
  {
   "cell_type": "code",
   "execution_count": 3,
   "id": "ab5dfd66",
   "metadata": {},
   "outputs": [],
   "source": [
    "freqs = np.zeros(26)\n",
    "for word in words:\n",
    "    chars = list(word)\n",
    "    for char in chars:\n",
    "        countidx = ord(char) - ord('a')\n",
    "        freqs[countidx] = freqs[countidx] + 1"
   ]
  },
  {
   "cell_type": "code",
   "execution_count": 4,
   "id": "a2f5cf31",
   "metadata": {},
   "outputs": [],
   "source": [
    "chars = []\n",
    "for i in range(0, 26):\n",
    "    chars.append(chr(i + ord('a')))   "
   ]
  },
  {
   "cell_type": "code",
   "execution_count": 5,
   "id": "ea26b308",
   "metadata": {},
   "outputs": [
    {
     "data": {
      "image/png": "[encoded data removed]",
      "text/plain": [
       "<Figure size 1152x720 with 1 Axes>"
      ]
     },
     "metadata": {
      "needs_background": "light"
     },
     "output_type": "display_data"
    }
   ],
   "source": [
    "plt.figure(1, figsize=(16, 10))\n",
    "plt.bar(chars, freqs)  \n",
    "plt.ylabel('Frequency')\n",
    "plt.xlabel('Letter');\n"
   ]
  },
  {
   "cell_type": "code",
   "execution_count": 6,
   "id": "acc929d3",
   "metadata": {},
   "outputs": [],
   "source": [
    "def get_scores(words):\n",
    "    scores = np.zeros(len(words))\n",
    "    chars = np.empty(len(words), dtype=object)\n",
    "    for index, word in enumerate(words):       \n",
    "        chars[index] = set(word)\n",
    "        for char in list(chars[index]):\n",
    "            scores[index] += freqs[ord(char) - ord('a')]\n",
    "    return scores, chars"
   ]
  },
  {
   "cell_type": "code",
   "execution_count": 7,
   "id": "097e3261",
   "metadata": {},
   "outputs": [],
   "source": [
    "scores, chars = get_scores(words)"
   ]
  },
  {
   "cell_type": "code",
   "execution_count": 8,
   "id": "2d0214e7",
   "metadata": {},
   "outputs": [
    {
     "data": {
      "text/html": [
       "<div>\n",
       "<style scoped>\n",
       "    .dataframe tbody tr th:only-of-type {\n",
       "        vertical-align: middle;\n",
       "    }\n",
       "\n",
       "    .dataframe tbody tr th {\n",
       "        vertical-align: top;\n",
       "    }\n",
       "\n",
       "    .dataframe thead th {\n",
       "        text-align: right;\n",
       "    }\n",
       "</style>\n",
       "<table border=\"1\" class=\"dataframe\">\n",
       "  <thead>\n",
       "    <tr style=\"text-align: right;\">\n",
       "      <th></th>\n",
       "      <th>word</th>\n",
       "      <th>score</th>\n",
       "      <th>chars</th>\n",
       "    </tr>\n",
       "  </thead>\n",
       "  <tbody>\n",
       "    <tr>\n",
       "      <th>0</th>\n",
       "      <td>arose</td>\n",
       "      <td>27913.0</td>\n",
       "      <td>{a, r, e, o, s}</td>\n",
       "    </tr>\n",
       "    <tr>\n",
       "      <th>1</th>\n",
       "      <td>soare</td>\n",
       "      <td>27913.0</td>\n",
       "      <td>{r, a, e, o, s}</td>\n",
       "    </tr>\n",
       "    <tr>\n",
       "      <th>2</th>\n",
       "      <td>aeros</td>\n",
       "      <td>27913.0</td>\n",
       "      <td>{a, r, e, o, s}</td>\n",
       "    </tr>\n",
       "    <tr>\n",
       "      <th>3</th>\n",
       "      <td>raise</td>\n",
       "      <td>27234.0</td>\n",
       "      <td>{r, a, e, i, s}</td>\n",
       "    </tr>\n",
       "    <tr>\n",
       "      <th>4</th>\n",
       "      <td>aesir</td>\n",
       "      <td>27234.0</td>\n",
       "      <td>{a, r, e, i, s}</td>\n",
       "    </tr>\n",
       "    <tr>\n",
       "      <th>...</th>\n",
       "      <td>...</td>\n",
       "      <td>...</td>\n",
       "      <td>...</td>\n",
       "    </tr>\n",
       "    <tr>\n",
       "      <th>12967</th>\n",
       "      <td>immix</td>\n",
       "      <td>6023.0</td>\n",
       "      <td>{i, x, m}</td>\n",
       "    </tr>\n",
       "    <tr>\n",
       "      <th>12968</th>\n",
       "      <td>hyphy</td>\n",
       "      <td>5853.0</td>\n",
       "      <td>{y, h, p}</td>\n",
       "    </tr>\n",
       "    <tr>\n",
       "      <th>12969</th>\n",
       "      <td>gyppy</td>\n",
       "      <td>5737.0</td>\n",
       "      <td>{p, y, g}</td>\n",
       "    </tr>\n",
       "    <tr>\n",
       "      <th>12970</th>\n",
       "      <td>xylyl</td>\n",
       "      <td>5733.0</td>\n",
       "      <td>{y, x, l}</td>\n",
       "    </tr>\n",
       "    <tr>\n",
       "      <th>12971</th>\n",
       "      <td>fuffy</td>\n",
       "      <td>5700.0</td>\n",
       "      <td>{f, y, u}</td>\n",
       "    </tr>\n",
       "  </tbody>\n",
       "</table>\n",
       "<p>12972 rows × 3 columns</p>\n",
       "</div>"
      ],
      "text/plain": [
       "        word    score            chars\n",
       "0      arose  27913.0  {a, r, e, o, s}\n",
       "1      soare  27913.0  {r, a, e, o, s}\n",
       "2      aeros  27913.0  {a, r, e, o, s}\n",
       "3      raise  27234.0  {r, a, e, i, s}\n",
       "4      aesir  27234.0  {a, r, e, i, s}\n",
       "...      ...      ...              ...\n",
       "12967  immix   6023.0        {i, x, m}\n",
       "12968  hyphy   5853.0        {y, h, p}\n",
       "12969  gyppy   5737.0        {p, y, g}\n",
       "12970  xylyl   5733.0        {y, x, l}\n",
       "12971  fuffy   5700.0        {f, y, u}\n",
       "\n",
       "[12972 rows x 3 columns]"
      ]
     },
     "execution_count": 8,
     "metadata": {},
     "output_type": "execute_result"
    }
   ],
   "source": [
    "# Sorting arrays on score\n",
    "sortind = scores.argsort()\n",
    "df = pd.DataFrame({\n",
    "    'word': words[sortind[::-1]],\n",
    "    'score': scores[sortind[::-1]],\n",
    "    'chars': chars[sortind[::-1]]\n",
    "})\n",
    "df"
   ]
  },
  {
   "cell_type": "code",
   "execution_count": 9,
   "id": "647c44fb",
   "metadata": {},
   "outputs": [
    {
     "data": {
      "text/html": [
       "<div>\n",
       "<style scoped>\n",
       "    .dataframe tbody tr th:only-of-type {\n",
       "        vertical-align: middle;\n",
       "    }\n",
       "\n",
       "    .dataframe tbody tr th {\n",
       "        vertical-align: top;\n",
       "    }\n",
       "\n",
       "    .dataframe thead th {\n",
       "        text-align: right;\n",
       "    }\n",
       "</style>\n",
       "<table border=\"1\" class=\"dataframe\">\n",
       "  <thead>\n",
       "    <tr style=\"text-align: right;\">\n",
       "      <th></th>\n",
       "      <th>word</th>\n",
       "      <th>score</th>\n",
       "      <th>chars</th>\n",
       "    </tr>\n",
       "  </thead>\n",
       "  <tbody>\n",
       "    <tr>\n",
       "      <th>159</th>\n",
       "      <td>sepia</td>\n",
       "      <td>25095.0</td>\n",
       "      <td>{a, e, i, s, p}</td>\n",
       "    </tr>\n",
       "  </tbody>\n",
       "</table>\n",
       "</div>"
      ],
      "text/plain": [
       "      word    score            chars\n",
       "159  sepia  25095.0  {a, e, i, s, p}"
      ]
     },
     "execution_count": 9,
     "metadata": {},
     "output_type": "execute_result"
    }
   ],
   "source": [
    "# My favourite word is 159th\n",
    "df[df.word == 'sepia']"
   ]
  },
  {
   "cell_type": "markdown",
   "id": "421120e0",
   "metadata": {},
   "source": [
    "## SOLVING"
   ]
  },
  {
   "cell_type": "code",
   "execution_count": 10,
   "id": "1f076e97",
   "metadata": {},
   "outputs": [],
   "source": [
    "# Legend:\n",
    "#   B: Black  -> that character is not in the word\n",
    "#   Y: Yellow -> that character is in the word but in a different position\n",
    "#   G: Green  -> that character is in the correct position\n",
    "def drop_words(df, dontHaveList, haveInPlaceRegex, haveOutPlaceRegex):\n",
    "    ret = df\n",
    "\n",
    "    # Drop words that have at least one of the B characters\n",
    "    chars = set(dontHaveList)\n",
    "    for char in chars:\n",
    "        ret = ret.loc[(ret.chars & {char} == False)]\n",
    "\n",
    "    # Drop words that don't have the G characters in position \n",
    "    ret = ret[ret.word.str.match(haveInPlaceRegex)]                      \n",
    "                      \n",
    "    # Drop words that have a Y characters in that position (it would have been G)\n",
    "    for index, char in enumerate(haveOutPlaceRegex):\n",
    "        ret = ret.loc[ret.word.str.get(index) != char]\n",
    "        \n",
    "    # Drop words that do not have the Y characters\n",
    "    chars = set(haveOutPlaceRegex)\n",
    "    for char in chars:\n",
    "        if (char != '.'):\n",
    "            ret = ret.loc[(ret.chars & {char})] \n",
    "        \n",
    "    return ret"
   ]
  },
  {
   "cell_type": "code",
   "execution_count": 11,
   "id": "1924a7b4",
   "metadata": {},
   "outputs": [],
   "source": [
    "def guessed_word(word, result):\n",
    "    \n",
    "    dontHaveList = ''\n",
    "    haveInPlaceRegex = bytearray('.....', encoding=\"utf-8\")\n",
    "    haveOutPlaceRegex = bytearray('.....', encoding=\"utf-8\")\n",
    "    \n",
    "    for index, char in enumerate(word):\n",
    "        if result[index] == 'B':\n",
    "            dontHaveList += char\n",
    "        elif result[index] == 'Y':\n",
    "            haveOutPlaceRegex[index] = ord(char)\n",
    "        elif result[index] == 'G':\n",
    "            haveInPlaceRegex[index] = ord(char)\n",
    "\n",
    "    return dontHaveList, bytearray.decode(haveInPlaceRegex), bytearray.decode(haveOutPlaceRegex)"
   ]
  },
  {
   "cell_type": "code",
   "execution_count": 12,
   "id": "4a0242c2",
   "metadata": {},
   "outputs": [],
   "source": [
    "def solve(df, word, result):\n",
    "    dontHave, haveInPlace, haveOutPlace = guessed_word(word, result)\n",
    "    ret = drop_words(df, dontHave, haveInPlace, haveOutPlace)\n",
    "    print(f'{len(ret)} words remaining. Try: \"{ret.iloc[0].word}\"')\n",
    "    return ret"
   ]
  },
  {
   "cell_type": "markdown",
   "id": "00b77292",
   "metadata": {},
   "source": [
    "## EXAMPLE 1"
   ]
  },
  {
   "cell_type": "markdown",
   "id": "5ca4376b",
   "metadata": {},
   "source": [
    " Wordle 229: Typed 'arose' and got 'YYBYB'"
   ]
  },
  {
   "cell_type": "code",
   "execution_count": 13,
   "id": "44b3c241",
   "metadata": {},
   "outputs": [
    {
     "name": "stdout",
     "output_type": "stream",
     "text": [
      "251 words remaining. Try: \"rails\"\n"
     ]
    }
   ],
   "source": [
    "w1 = solve(df, 'arose', 'YYBYB')"
   ]
  },
  {
   "cell_type": "code",
   "execution_count": 14,
   "id": "a1ec2b70",
   "metadata": {},
   "outputs": [
    {
     "name": "stdout",
     "output_type": "stream",
     "text": [
      "55 words remaining. Try: \"starn\"\n"
     ]
    }
   ],
   "source": [
    "w2 = solve(w1, 'rails', 'YYBBY')"
   ]
  },
  {
   "cell_type": "code",
   "execution_count": 15,
   "id": "3f7fdaf8",
   "metadata": {},
   "outputs": [
    {
     "name": "stdout",
     "output_type": "stream",
     "text": [
      "12 words remaining. Try: \"spard\"\n"
     ]
    }
   ],
   "source": [
    "w3 = solve(w2, 'starn', 'GBGGB')"
   ]
  },
  {
   "cell_type": "code",
   "execution_count": 16,
   "id": "d906e19d",
   "metadata": {},
   "outputs": [
    {
     "name": "stdout",
     "output_type": "stream",
     "text": [
      "2 words remaining. Try: \"shard\"\n"
     ]
    }
   ],
   "source": [
    "w4 = solve(w3, 'spard', 'GBGGG')"
   ]
  },
  {
   "cell_type": "markdown",
   "id": "386ced67",
   "metadata": {},
   "source": [
    "**SHARD!**"
   ]
  },
  {
   "cell_type": "markdown",
   "id": "57cfb39a",
   "metadata": {},
   "source": [
    "## EXAMPLE 2"
   ]
  },
  {
   "cell_type": "markdown",
   "id": "8042f707",
   "metadata": {},
   "source": [
    "Wordle 226: Typed 'arose' and got 'BBBBB'"
   ]
  },
  {
   "cell_type": "code",
   "execution_count": 17,
   "id": "42da3acf",
   "metadata": {},
   "outputs": [
    {
     "name": "stdout",
     "output_type": "stream",
     "text": [
      "577 words remaining. Try: \"unlit\"\n"
     ]
    }
   ],
   "source": [
    "w1 = solve(df, 'arose', 'BBBBB')"
   ]
  },
  {
   "cell_type": "code",
   "execution_count": 18,
   "id": "5a277fcb",
   "metadata": {},
   "outputs": [
    {
     "name": "stdout",
     "output_type": "stream",
     "text": [
      "7 words remaining. Try: \"clipt\"\n"
     ]
    }
   ],
   "source": [
    "w2 = solve(w1, 'unlit', 'BBYYG')"
   ]
  },
  {
   "cell_type": "code",
   "execution_count": 19,
   "id": "d0834fb3",
   "metadata": {},
   "outputs": [
    {
     "name": "stdout",
     "output_type": "stream",
     "text": [
      "1 words remaining. Try: \"light\"\n"
     ]
    }
   ],
   "source": [
    "w3 = solve(w2, 'clipt', 'BYYBG')"
   ]
  },
  {
   "cell_type": "markdown",
   "id": "de0154a7",
   "metadata": {},
   "source": [
    "**LIGHT!**"
   ]
  },
  {
   "cell_type": "code",
   "execution_count": null,
   "id": "0c69b27c",
   "metadata": {},
   "outputs": [],
   "source": []
  }
 ],
 "metadata": {
  "kernelspec": {
   "display_name": "Python 3 (ipykernel)",
   "language": "python",
   "name": "python3"
  },
  "language_info": {
   "codemirror_mode": {
    "name": "ipython",
    "version": 3
   },
   "file_extension": ".py",
   "mimetype": "text/x-python",
   "name": "python",
   "nbconvert_exporter": "python",
   "pygments_lexer": "ipython3",
   "version": "3.9.7"
  }
 },
 "nbformat": 4,
 "nbformat_minor": 5
}
